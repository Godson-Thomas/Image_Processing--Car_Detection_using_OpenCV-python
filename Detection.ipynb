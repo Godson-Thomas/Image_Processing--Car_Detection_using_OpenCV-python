{
 "cells": [
  {
   "cell_type": "code",
   "execution_count": 45,
   "metadata": {},
   "outputs": [],
   "source": [
    "import cv2\n",
    "import time\n"
   ]
  },
  {
   "cell_type": "code",
   "execution_count": 46,
   "metadata": {},
   "outputs": [],
   "source": [
    "video=cv2.VideoCapture(\"/home/supernova/Software/GIT_Folder/CV_Video/Images And Videos/1video.avi\")"
   ]
  },
  {
   "cell_type": "code",
   "execution_count": 47,
   "metadata": {},
   "outputs": [],
   "source": [
    "car_cascade=cv2.CascadeClassifier(\"/home/supernova/Software/GIT_Folder/CV_Video/cars.xml\")\n",
    "                                        \n"
   ]
  },
  {
   "cell_type": "code",
   "execution_count": 48,
   "metadata": {},
   "outputs": [],
   "source": [
    "a=1\n",
    "\n",
    "while True:\n",
    "    \n",
    "    \n",
    "    \n",
    "    \n",
    "    check,img = video.read(0)\n",
    "\n",
    "    gray = cv2.cvtColor(img,cv2.COLOR_BGR2GRAY)\n",
    "    \n",
    "    cars = car_cascade.detectMultiScale(\n",
    "        gray,\n",
    "\n",
    "        scaleFactor=1.07,\n",
    "        minNeighbors=3,                                        \n",
    "        minSize=(30, 30)\n",
    "        )\n",
    "\n",
    "    \n",
    "\n",
    "    for (x ,y ,w ,h) in cars:\n",
    "        cv2.rectangle(img ,(x ,y) ,( x +w , y +h) ,(255 ,0 ,0) ,2)\n",
    "\n",
    "    \n",
    "    cv2.imshow(\"video\" ,img)\n",
    "\n",
    "    k=cv2.waitKey(30)\n",
    "    a=a+1\n",
    "    if k==ord('q'):     #  press 'q' to quit\n",
    "        break\n",
    "\n",
    "video.release()\n",
    "cv2.destroyAllWindows()\n"
   ]
  },
  {
   "cell_type": "code",
   "execution_count": null,
   "metadata": {},
   "outputs": [],
   "source": []
  }
 ],
 "metadata": {
  "kernelspec": {
   "display_name": "DARKTRACE",
   "language": "python",
   "name": "darktrace"
  },
  "language_info": {
   "codemirror_mode": {
    "name": "ipython",
    "version": 3
   },
   "file_extension": ".py",
   "mimetype": "text/x-python",
   "name": "python",
   "nbconvert_exporter": "python",
   "pygments_lexer": "ipython3",
   "version": "3.6.9"
  }
 },
 "nbformat": 4,
 "nbformat_minor": 2
}
